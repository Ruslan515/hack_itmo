{
 "cells": [
  {
   "cell_type": "markdown",
   "id": "3a69df24",
   "metadata": {},
   "source": [
    "###  Хакатон"
   ]
  },
  {
   "cell_type": "code",
   "execution_count": 4,
   "id": "2a0e649c",
   "metadata": {},
   "outputs": [],
   "source": [
    "import pandas as pd\n",
    "from catboost import Pool, CatBoostClassifier\n",
    "import matplotlib.pyplot as plt\n",
    "import os\n",
    "from sklearn.model_selection import train_test_split \n",
    "\n",
    "%matplotlib inline"
   ]
  },
  {
   "cell_type": "code",
   "execution_count": 5,
   "id": "da8c6ab3",
   "metadata": {},
   "outputs": [],
   "source": [
    "data_path = \"../data/\"\n",
    "file_data = \"labeled.csv\"\n",
    "file_data = os.path.join(data_path, file_data)"
   ]
  },
  {
   "cell_type": "code",
   "execution_count": 6,
   "id": "ec0a9d58",
   "metadata": {},
   "outputs": [
    {
     "name": "stdout",
     "output_type": "stream",
     "text": [
      "<class 'pandas.core.frame.DataFrame'>\n",
      "RangeIndex: 14412 entries, 0 to 14411\n",
      "Data columns (total 2 columns):\n",
      " #   Column   Non-Null Count  Dtype  \n",
      "---  ------   --------------  -----  \n",
      " 0   comment  14412 non-null  object \n",
      " 1   toxic    14412 non-null  float64\n",
      "dtypes: float64(1), object(1)\n",
      "memory usage: 225.3+ KB\n"
     ]
    }
   ],
   "source": [
    "data = pd.read_csv(file_data)\n",
    "data.info()"
   ]
  },
  {
   "cell_type": "code",
   "execution_count": 7,
   "id": "9169a9fa",
   "metadata": {},
   "outputs": [
    {
     "data": {
      "text/html": [
       "<div>\n",
       "<style scoped>\n",
       "    .dataframe tbody tr th:only-of-type {\n",
       "        vertical-align: middle;\n",
       "    }\n",
       "\n",
       "    .dataframe tbody tr th {\n",
       "        vertical-align: top;\n",
       "    }\n",
       "\n",
       "    .dataframe thead th {\n",
       "        text-align: right;\n",
       "    }\n",
       "</style>\n",
       "<table border=\"1\" class=\"dataframe\">\n",
       "  <thead>\n",
       "    <tr style=\"text-align: right;\">\n",
       "      <th></th>\n",
       "      <th>comment</th>\n",
       "      <th>toxic</th>\n",
       "    </tr>\n",
       "  </thead>\n",
       "  <tbody>\n",
       "    <tr>\n",
       "      <th>0</th>\n",
       "      <td>Верблюдов-то за что? Дебилы, бл...\\n</td>\n",
       "      <td>1.0</td>\n",
       "    </tr>\n",
       "    <tr>\n",
       "      <th>1</th>\n",
       "      <td>Хохлы, это отдушина затюканого россиянина, мол...</td>\n",
       "      <td>1.0</td>\n",
       "    </tr>\n",
       "    <tr>\n",
       "      <th>2</th>\n",
       "      <td>Собаке - собачья смерть\\n</td>\n",
       "      <td>1.0</td>\n",
       "    </tr>\n",
       "    <tr>\n",
       "      <th>3</th>\n",
       "      <td>Страницу обнови, дебил. Это тоже не оскорблени...</td>\n",
       "      <td>1.0</td>\n",
       "    </tr>\n",
       "    <tr>\n",
       "      <th>4</th>\n",
       "      <td>тебя не убедил 6-страничный пдф в том, что Скр...</td>\n",
       "      <td>1.0</td>\n",
       "    </tr>\n",
       "  </tbody>\n",
       "</table>\n",
       "</div>"
      ],
      "text/plain": [
       "                                             comment  toxic\n",
       "0               Верблюдов-то за что? Дебилы, бл...\\n    1.0\n",
       "1  Хохлы, это отдушина затюканого россиянина, мол...    1.0\n",
       "2                          Собаке - собачья смерть\\n    1.0\n",
       "3  Страницу обнови, дебил. Это тоже не оскорблени...    1.0\n",
       "4  тебя не убедил 6-страничный пдф в том, что Скр...    1.0"
      ]
     },
     "execution_count": 7,
     "metadata": {},
     "output_type": "execute_result"
    }
   ],
   "source": [
    "data.head()"
   ]
  },
  {
   "cell_type": "code",
   "execution_count": 8,
   "id": "60cab43c",
   "metadata": {},
   "outputs": [
    {
     "data": {
      "text/plain": [
       "0.0    9586\n",
       "1.0    4826\n",
       "Name: toxic, dtype: int64"
      ]
     },
     "execution_count": 8,
     "metadata": {},
     "output_type": "execute_result"
    }
   ],
   "source": [
    "data.toxic.value_counts()"
   ]
  },
  {
   "cell_type": "code",
   "execution_count": 9,
   "id": "3f1dd81e",
   "metadata": {},
   "outputs": [],
   "source": [
    "df_train, df_test = train_test_split(\n",
    "    data,\n",
    "    test_size=0.2, \n",
    "    stratify=data[\"toxic\"],\n",
    "    random_state=42\n",
    ")\n"
   ]
  },
  {
   "cell_type": "code",
   "execution_count": 10,
   "id": "90688321",
   "metadata": {},
   "outputs": [
    {
     "data": {
      "text/plain": [
       "((11529, 2), (2883, 2))"
      ]
     },
     "execution_count": 10,
     "metadata": {},
     "output_type": "execute_result"
    }
   ],
   "source": [
    "df_train.shape, df_test.shape"
   ]
  },
  {
   "cell_type": "code",
   "execution_count": 11,
   "id": "d98bd0d9",
   "metadata": {},
   "outputs": [
    {
     "data": {
      "text/plain": [
       "(0.0    7668\n",
       " 1.0    3861\n",
       " Name: toxic, dtype: int64,\n",
       " 0.0    1918\n",
       " 1.0     965\n",
       " Name: toxic, dtype: int64)"
      ]
     },
     "execution_count": 11,
     "metadata": {},
     "output_type": "execute_result"
    }
   ],
   "source": [
    "df_train.toxic.value_counts(), df_test.toxic.value_counts()"
   ]
  },
  {
   "cell_type": "code",
   "execution_count": 12,
   "id": "cca6a06d",
   "metadata": {},
   "outputs": [],
   "source": [
    "df_train.to_csv(os.path.join(data_path, \"train.csv\"), index=0)\n",
    "df_test.to_csv(os.path.join(data_path, \"test.csv\"), index=0)"
   ]
  },
  {
   "cell_type": "markdown",
   "id": "d6679bfc",
   "metadata": {},
   "source": [
    "### Обучим"
   ]
  },
  {
   "cell_type": "code",
   "execution_count": 13,
   "id": "6fe9dde7",
   "metadata": {},
   "outputs": [
    {
     "data": {
      "text/html": [
       "<div>\n",
       "<style scoped>\n",
       "    .dataframe tbody tr th:only-of-type {\n",
       "        vertical-align: middle;\n",
       "    }\n",
       "\n",
       "    .dataframe tbody tr th {\n",
       "        vertical-align: top;\n",
       "    }\n",
       "\n",
       "    .dataframe thead th {\n",
       "        text-align: right;\n",
       "    }\n",
       "</style>\n",
       "<table border=\"1\" class=\"dataframe\">\n",
       "  <thead>\n",
       "    <tr style=\"text-align: right;\">\n",
       "      <th></th>\n",
       "      <th>comment</th>\n",
       "      <th>toxic</th>\n",
       "    </tr>\n",
       "  </thead>\n",
       "  <tbody>\n",
       "    <tr>\n",
       "      <th>0</th>\n",
       "      <td>Вы читали закон о банкротстве? Что бы объявить...</td>\n",
       "      <td>0.0</td>\n",
       "    </tr>\n",
       "    <tr>\n",
       "      <th>1</th>\n",
       "      <td>а у сяоми это постоянно</td>\n",
       "      <td>0.0</td>\n",
       "    </tr>\n",
       "    <tr>\n",
       "      <th>2</th>\n",
       "      <td>Хотел занять? Тогда да,проще позвонить , чем у...</td>\n",
       "      <td>1.0</td>\n",
       "    </tr>\n",
       "    <tr>\n",
       "      <th>3</th>\n",
       "      <td>заработки были без работы даже небольшие, но б...</td>\n",
       "      <td>0.0</td>\n",
       "    </tr>\n",
       "    <tr>\n",
       "      <th>4</th>\n",
       "      <td>Езжу каждый день. За этот год почти 30 тыс.\\n</td>\n",
       "      <td>0.0</td>\n",
       "    </tr>\n",
       "  </tbody>\n",
       "</table>\n",
       "</div>"
      ],
      "text/plain": [
       "                                             comment  toxic\n",
       "0  Вы читали закон о банкротстве? Что бы объявить...    0.0\n",
       "1                            а у сяоми это постоянно    0.0\n",
       "2  Хотел занять? Тогда да,проще позвонить , чем у...    1.0\n",
       "3  заработки были без работы даже небольшие, но б...    0.0\n",
       "4      Езжу каждый день. За этот год почти 30 тыс.\\n    0.0"
      ]
     },
     "execution_count": 13,
     "metadata": {},
     "output_type": "execute_result"
    }
   ],
   "source": [
    "train = pd.read_csv(os.path.join(data_path, \"train.csv\"))\n",
    "train.head()"
   ]
  },
  {
   "cell_type": "code",
   "execution_count": 16,
   "id": "27cef1e2",
   "metadata": {},
   "outputs": [],
   "source": [
    "def fit_catboost(\n",
    "    X_train, \n",
    "    X_test, \n",
    "    y_train, \n",
    "    y_test, \n",
    "    catboost_params = {},\n",
    "    verbose = 100\n",
    "):\n",
    "    learn_pool = Pool(\n",
    "        X_train, \n",
    "        y_train, \n",
    "        text_features=[\"text\"], \n",
    "        feature_names=[\"text\"]\n",
    "    )\n",
    "    test_pool = Pool(\n",
    "        X_test, \n",
    "        y_test, \n",
    "        text_features=[\"text\"],\n",
    "        feature_names=[\"text\"]\n",
    "    )\n",
    "    catboost_default_params = {\n",
    "        'iterations': 5000,\n",
    "        'learning_rate': 0.05,\n",
    "        'eval_metric': 'F1',\n",
    "        'task_type': 'GPU',\n",
    "        'use_best_model': True\n",
    "    }\n",
    "    catboost_default_params.update(catboost_params)\n",
    "    \n",
    "    model = CatBoostClassifier(**catboost_default_params)\n",
    "    model.fit(learn_pool, eval_set=test_pool, verbose=verbose)\n",
    "    return model\n",
    "\n"
   ]
  },
  {
   "cell_type": "code",
   "execution_count": 18,
   "id": "42ef4b16",
   "metadata": {},
   "outputs": [
    {
     "name": "stdout",
     "output_type": "stream",
     "text": [
      "0:\tlearn: 0.5280431\ttest: 0.5305136\tbest: 0.5305136 (0)\ttotal: 36ms\tremaining: 2m 59s\n",
      "100:\tlearn: 0.7228871\ttest: 0.7451670\tbest: 0.7477329 (1)\ttotal: 2.51s\tremaining: 2m 1s\n",
      "200:\tlearn: 0.7294821\ttest: 0.7457181\tbest: 0.7477329 (1)\ttotal: 4.71s\tremaining: 1m 52s\n",
      "300:\tlearn: 0.7341062\ttest: 0.7460317\tbest: 0.7477329 (1)\ttotal: 7.08s\tremaining: 1m 50s\n",
      "400:\tlearn: 0.7412117\ttest: 0.7449250\tbest: 0.7477329 (1)\ttotal: 9.65s\tremaining: 1m 50s\n",
      "500:\tlearn: 0.7460169\ttest: 0.7446996\tbest: 0.7477329 (1)\ttotal: 12.2s\tremaining: 1m 49s\n",
      "600:\tlearn: 0.7522556\ttest: 0.7435897\tbest: 0.7477329 (1)\ttotal: 14.5s\tremaining: 1m 46s\n",
      "700:\tlearn: 0.7568988\ttest: 0.7440213\tbest: 0.7477329 (1)\ttotal: 17s\tremaining: 1m 43s\n",
      "800:\tlearn: 0.7609756\ttest: 0.7418925\tbest: 0.7477329 (1)\ttotal: 19.2s\tremaining: 1m 40s\n",
      "900:\tlearn: 0.7659334\ttest: 0.7396529\tbest: 0.7477329 (1)\ttotal: 21.5s\tremaining: 1m 37s\n",
      "1000:\tlearn: 0.7703592\ttest: 0.7387628\tbest: 0.7477329 (1)\ttotal: 23.8s\tremaining: 1m 35s\n",
      "1100:\tlearn: 0.7755639\ttest: 0.7381058\tbest: 0.7477329 (1)\ttotal: 26.1s\tremaining: 1m 32s\n",
      "1200:\tlearn: 0.7771923\ttest: 0.7399822\tbest: 0.7477329 (1)\ttotal: 28.4s\tremaining: 1m 29s\n",
      "1300:\tlearn: 0.7803316\ttest: 0.7412027\tbest: 0.7477329 (1)\ttotal: 30.8s\tremaining: 1m 27s\n",
      "1400:\tlearn: 0.7818216\ttest: 0.7407407\tbest: 0.7477329 (1)\ttotal: 33.1s\tremaining: 1m 24s\n",
      "1500:\tlearn: 0.7854312\ttest: 0.7409719\tbest: 0.7477329 (1)\ttotal: 35.4s\tremaining: 1m 22s\n",
      "1600:\tlearn: 0.7889770\ttest: 0.7390527\tbest: 0.7477329 (1)\ttotal: 37.8s\tremaining: 1m 20s\n",
      "1700:\tlearn: 0.7910758\ttest: 0.7396159\tbest: 0.7477329 (1)\ttotal: 40s\tremaining: 1m 17s\n",
      "1800:\tlearn: 0.7931818\ttest: 0.7389558\tbest: 0.7477329 (1)\ttotal: 42.3s\tremaining: 1m 15s\n",
      "1900:\tlearn: 0.7959106\ttest: 0.7375000\tbest: 0.7477329 (1)\ttotal: 44.6s\tremaining: 1m 12s\n",
      "2000:\tlearn: 0.7964401\ttest: 0.7389558\tbest: 0.7477329 (1)\ttotal: 46.9s\tremaining: 1m 10s\n",
      "2100:\tlearn: 0.7984100\ttest: 0.7381591\tbest: 0.7477329 (1)\ttotal: 49.3s\tremaining: 1m 8s\n",
      "2200:\tlearn: 0.8012881\ttest: 0.7355705\tbest: 0.7477329 (1)\ttotal: 51.8s\tremaining: 1m 5s\n",
      "2300:\tlearn: 0.8020458\ttest: 0.7364653\tbest: 0.7477329 (1)\ttotal: 54.2s\tremaining: 1m 3s\n",
      "2400:\tlearn: 0.8022727\ttest: 0.7367950\tbest: 0.7477329 (1)\ttotal: 56.5s\tremaining: 1m 1s\n",
      "2500:\tlearn: 0.8034123\ttest: 0.7367950\tbest: 0.7477329 (1)\ttotal: 58.9s\tremaining: 58.8s\n",
      "2600:\tlearn: 0.8053869\ttest: 0.7368893\tbest: 0.7477329 (1)\ttotal: 1m 1s\tremaining: 56.5s\n",
      "2700:\tlearn: 0.8072038\ttest: 0.7380206\tbest: 0.7477329 (1)\ttotal: 1m 3s\tremaining: 54.2s\n",
      "2800:\tlearn: 0.8087929\ttest: 0.7386822\tbest: 0.7477329 (1)\ttotal: 1m 6s\tremaining: 51.8s\n",
      "2900:\tlearn: 0.8104625\ttest: 0.7394808\tbest: 0.7477329 (1)\ttotal: 1m 8s\tremaining: 49.4s\n",
      "3000:\tlearn: 0.8117313\ttest: 0.7389163\tbest: 0.7477329 (1)\ttotal: 1m 10s\tremaining: 47.1s\n",
      "3100:\tlearn: 0.8132450\ttest: 0.7384477\tbest: 0.7477329 (1)\ttotal: 1m 13s\tremaining: 44.8s\n",
      "3200:\tlearn: 0.8133283\ttest: 0.7377857\tbest: 0.7477329 (1)\ttotal: 1m 15s\tremaining: 42.4s\n",
      "3300:\tlearn: 0.8139315\ttest: 0.7376460\tbest: 0.7477329 (1)\ttotal: 1m 17s\tremaining: 40.1s\n",
      "3400:\tlearn: 0.8155303\ttest: 0.7373148\tbest: 0.7477329 (1)\ttotal: 1m 20s\tremaining: 37.7s\n",
      "3500:\tlearn: 0.8165815\ttest: 0.7375505\tbest: 0.7477329 (1)\ttotal: 1m 22s\tremaining: 35.3s\n",
      "3600:\tlearn: 0.8175099\ttest: 0.7369838\tbest: 0.7477329 (1)\ttotal: 1m 24s\tremaining: 32.9s\n",
      "3700:\tlearn: 0.8186117\ttest: 0.7350427\tbest: 0.7477329 (1)\ttotal: 1m 27s\tremaining: 30.6s\n",
      "3800:\tlearn: 0.8192817\ttest: 0.7375505\tbest: 0.7477329 (1)\ttotal: 1m 29s\tremaining: 28.2s\n",
      "3900:\tlearn: 0.8199016\ttest: 0.7359928\tbest: 0.7477329 (1)\ttotal: 1m 31s\tremaining: 25.8s\n",
      "4000:\tlearn: 0.8211244\ttest: 0.7368893\tbest: 0.7477329 (1)\ttotal: 1m 34s\tremaining: 23.5s\n",
      "4100:\tlearn: 0.8225288\ttest: 0.7350964\tbest: 0.7477329 (1)\ttotal: 1m 36s\tremaining: 21.1s\n",
      "4200:\tlearn: 0.8241966\ttest: 0.7376902\tbest: 0.7477329 (1)\ttotal: 1m 38s\tremaining: 18.8s\n",
      "4300:\tlearn: 0.8256846\ttest: 0.7368893\tbest: 0.7477329 (1)\ttotal: 1m 40s\tremaining: 16.4s\n",
      "4400:\tlearn: 0.8260623\ttest: 0.7374552\tbest: 0.7477329 (1)\ttotal: 1m 43s\tremaining: 14s\n",
      "4500:\tlearn: 0.8274169\ttest: 0.7377857\tbest: 0.7477329 (1)\ttotal: 1m 45s\tremaining: 11.7s\n",
      "4600:\tlearn: 0.8284582\ttest: 0.7364167\tbest: 0.7477329 (1)\ttotal: 1m 47s\tremaining: 9.35s\n",
      "4700:\tlearn: 0.8291211\ttest: 0.7369838\tbest: 0.7477329 (1)\ttotal: 1m 50s\tremaining: 7s\n",
      "4800:\tlearn: 0.8294340\ttest: 0.7360862\tbest: 0.7477329 (1)\ttotal: 1m 52s\tremaining: 4.66s\n",
      "4900:\tlearn: 0.8316981\ttest: 0.7349506\tbest: 0.7477329 (1)\ttotal: 1m 54s\tremaining: 2.31s\n",
      "4999:\tlearn: 0.8320452\ttest: 0.7358491\tbest: 0.7477329 (1)\ttotal: 1m 56s\tremaining: 0us\n",
      "bestTest = 0.7477328937\n",
      "bestIteration = 1\n",
      "Shrink model to first 2 iterations.\n"
     ]
    }
   ],
   "source": [
    "X_train, X_val, y_train, y_val = train_test_split(\n",
    "    train[[\"comment\"]],\n",
    "    train[\"toxic\"],\n",
    "    test_size=0.3, \n",
    "    stratify=train[\"toxic\"],\n",
    "    random_state=42\n",
    ")\n",
    "cat_boost_model = fit_catboost(X_train, X_val, y_train, y_val)"
   ]
  },
  {
   "cell_type": "code",
   "execution_count": 17,
   "id": "c2e02611",
   "metadata": {},
   "outputs": [],
   "source": [
    "cat_boost_model.save_model(\"hack_model\")"
   ]
  },
  {
   "cell_type": "code",
   "execution_count": null,
   "id": "50e49c31",
   "metadata": {},
   "outputs": [],
   "source": []
  }
 ],
 "metadata": {
  "kernelspec": {
   "display_name": "Python 3",
   "language": "python",
   "name": "python3"
  },
  "language_info": {
   "codemirror_mode": {
    "name": "ipython",
    "version": 3
   },
   "file_extension": ".py",
   "mimetype": "text/x-python",
   "name": "python",
   "nbconvert_exporter": "python",
   "pygments_lexer": "ipython3",
   "version": "3.10.6"
  }
 },
 "nbformat": 4,
 "nbformat_minor": 5
}
