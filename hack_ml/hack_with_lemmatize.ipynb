{
 "cells": [
  {
   "cell_type": "markdown",
   "id": "3a69df24",
   "metadata": {},
   "source": [
    "###  Хакатон"
   ]
  },
  {
   "cell_type": "code",
   "execution_count": 3,
   "id": "2a0e649c",
   "metadata": {},
   "outputs": [],
   "source": [
    "import pandas as pd\n",
    "from catboost import Pool, CatBoostClassifier\n",
    "import matplotlib.pyplot as plt\n",
    "import os\n",
    "from sklearn.model_selection import train_test_split \n",
    "\n",
    "import nltk \n",
    "import re\n",
    "import pymorphy2\n",
    "from nltk.stem import WordNetLemmatizer \n",
    "from nltk.corpus import stopwords\n",
    "\n",
    "from tqdm import tqdm\n",
    "\n",
    "import sklearn.metrics as sk_met # для оценки модели \n",
    "\n",
    "\n",
    "%matplotlib inline"
   ]
  },
  {
   "cell_type": "code",
   "execution_count": 4,
   "id": "42293937",
   "metadata": {},
   "outputs": [],
   "source": [
    "# nltk.download('stopwords')\n",
    "# nltk.download('wordnet')\n",
    "# nltk.download('punkt')"
   ]
  },
  {
   "cell_type": "code",
   "execution_count": 5,
   "id": "da8c6ab3",
   "metadata": {},
   "outputs": [],
   "source": [
    "data_path = \"../data/russian_toxic/\"\n",
    "file_data = \"labeled.csv\"\n",
    "file_data = os.path.join(data_path, file_data)"
   ]
  },
  {
   "cell_type": "code",
   "execution_count": 6,
   "id": "ec0a9d58",
   "metadata": {},
   "outputs": [
    {
     "name": "stdout",
     "output_type": "stream",
     "text": [
      "<class 'pandas.core.frame.DataFrame'>\n",
      "RangeIndex: 14412 entries, 0 to 14411\n",
      "Data columns (total 2 columns):\n",
      " #   Column   Non-Null Count  Dtype  \n",
      "---  ------   --------------  -----  \n",
      " 0   comment  14412 non-null  object \n",
      " 1   toxic    14412 non-null  float64\n",
      "dtypes: float64(1), object(1)\n",
      "memory usage: 225.3+ KB\n"
     ]
    }
   ],
   "source": [
    "data = pd.read_csv(file_data)\n",
    "data.info()"
   ]
  },
  {
   "cell_type": "code",
   "execution_count": 7,
   "id": "9169a9fa",
   "metadata": {},
   "outputs": [
    {
     "data": {
      "text/html": [
       "<div>\n",
       "<style scoped>\n",
       "    .dataframe tbody tr th:only-of-type {\n",
       "        vertical-align: middle;\n",
       "    }\n",
       "\n",
       "    .dataframe tbody tr th {\n",
       "        vertical-align: top;\n",
       "    }\n",
       "\n",
       "    .dataframe thead th {\n",
       "        text-align: right;\n",
       "    }\n",
       "</style>\n",
       "<table border=\"1\" class=\"dataframe\">\n",
       "  <thead>\n",
       "    <tr style=\"text-align: right;\">\n",
       "      <th></th>\n",
       "      <th>comment</th>\n",
       "      <th>toxic</th>\n",
       "    </tr>\n",
       "  </thead>\n",
       "  <tbody>\n",
       "    <tr>\n",
       "      <th>0</th>\n",
       "      <td>Верблюдов-то за что? Дебилы, бл...\\n</td>\n",
       "      <td>1.0</td>\n",
       "    </tr>\n",
       "    <tr>\n",
       "      <th>1</th>\n",
       "      <td>Хохлы, это отдушина затюканого россиянина, мол...</td>\n",
       "      <td>1.0</td>\n",
       "    </tr>\n",
       "    <tr>\n",
       "      <th>2</th>\n",
       "      <td>Собаке - собачья смерть\\n</td>\n",
       "      <td>1.0</td>\n",
       "    </tr>\n",
       "    <tr>\n",
       "      <th>3</th>\n",
       "      <td>Страницу обнови, дебил. Это тоже не оскорблени...</td>\n",
       "      <td>1.0</td>\n",
       "    </tr>\n",
       "    <tr>\n",
       "      <th>4</th>\n",
       "      <td>тебя не убедил 6-страничный пдф в том, что Скр...</td>\n",
       "      <td>1.0</td>\n",
       "    </tr>\n",
       "  </tbody>\n",
       "</table>\n",
       "</div>"
      ],
      "text/plain": [
       "                                             comment  toxic\n",
       "0               Верблюдов-то за что? Дебилы, бл...\\n    1.0\n",
       "1  Хохлы, это отдушина затюканого россиянина, мол...    1.0\n",
       "2                          Собаке - собачья смерть\\n    1.0\n",
       "3  Страницу обнови, дебил. Это тоже не оскорблени...    1.0\n",
       "4  тебя не убедил 6-страничный пдф в том, что Скр...    1.0"
      ]
     },
     "execution_count": 7,
     "metadata": {},
     "output_type": "execute_result"
    }
   ],
   "source": [
    "data.head()"
   ]
  },
  {
   "cell_type": "code",
   "execution_count": 8,
   "id": "60cab43c",
   "metadata": {},
   "outputs": [
    {
     "data": {
      "text/plain": [
       "0.0    9586\n",
       "1.0    4826\n",
       "Name: toxic, dtype: int64"
      ]
     },
     "execution_count": 8,
     "metadata": {},
     "output_type": "execute_result"
    }
   ],
   "source": [
    "data.toxic.value_counts()"
   ]
  },
  {
   "cell_type": "code",
   "execution_count": 9,
   "id": "44451fac",
   "metadata": {},
   "outputs": [
    {
     "name": "stdout",
     "output_type": "stream",
     "text": [
      "{'почти', 'уж', 'опять', 'уже', 'во', 'какая', 'где', 'впрочем', 'все', 'чтоб', 'меня', 'их', 'лучше', 'была', 'нельзя', 'же', 'какой', 'ей', 'потом', 'чего', 'когда', 'теперь', 'на', 'из', 'там', 'ничего', 'больше', 'с', 'бы', 'ли', 'да', 'три', 'будто', 'разве', 'были', 'ни', 'моя', 'всю', 'кто', 'нас', 'хоть', 'совсем', 'быть', 'что', 'она', 'более', 'у', 'и', 'за', 'или', 'никогда', 'только', 'ведь', 'без', 'он', 'его', 'такой', 'вам', 'сейчас', 'всего', 'мне', 'наконец', 'можно', 'от', 'тот', 'мы', 'под', 'им', 'два', 'ему', 'со', 'если', 'этом', 'еще', 'потому', 'перед', 'чем', 'хорошо', 'этой', 'того', 'вот', 'для', 'над', 'чуть', 'здесь', 'вас', 'будет', 'между', 'вы', 'конечно', 'иногда', 'может', 'как', 'мой', 'в', 'к', 'зачем', 'себя', 'другой', 'о', 'тут', 'не', 'свою', 'по', 'тем', 'эту', 'нибудь', 'ним', 'этого', 'через', 'ну', 'надо', 'один', 'много', 'нет', 'а', 'них', 'эти', 'всех', 'при', 'после', 'тоже', 'вдруг', 'то', 'даже', 'этот', 'ней', 'так', 'есть', 'куда', 'ее', 'но', 'я', 'него', 'был', 'об', 'ты', 'чтобы', 'всегда', 'до', 'ж', 'раз', 'сам', 'они', 'нее', 'было', 'тогда', 'про', 'себе', 'тебя', 'том'}\n"
     ]
    }
   ],
   "source": [
    "stop_words = set(stopwords.words('russian'))\n",
    "print(stop_words)"
   ]
  },
  {
   "cell_type": "markdown",
   "id": "a856a4ee",
   "metadata": {},
   "source": [
    "### Приведение к нормальной форме (нижний регистр и лемматизация)"
   ]
  },
  {
   "cell_type": "code",
   "execution_count": 10,
   "id": "4f93b3d4",
   "metadata": {},
   "outputs": [],
   "source": [
    "def lemmatized(df_train, text_col):\n",
    "    # нормализация текста: приведение к нижнему регистру, удаление различных символов\n",
    "    df_train[text_col] = df_train[text_col].str.lower()\n",
    "    df_train[text_col] = df_train[text_col].str.replace(',', ' ')\n",
    "    df_train[text_col] = df_train[text_col].str.replace('.', ' ')\n",
    "    df_train[text_col] = df_train[text_col].str.replace('-', ' ')\n",
    "    df_train[text_col] = df_train[text_col].str.replace(';', ' ')\n",
    "    df_train[text_col] = df_train[text_col].str.replace(':', ' ')\n",
    "    df_train[text_col] = df_train[text_col].str.replace('(', ' ')\n",
    "    df_train[text_col] = df_train[text_col].str.replace(')', ' ')\n",
    "    df_train[text_col] = df_train[text_col].str.replace('}', ' ')\n",
    "    df_train[text_col] = df_train[text_col].str.replace('{', ' ')\n",
    "    df_train[text_col] = df_train[text_col].str.replace('<', ' ')\n",
    "    df_train[text_col] = df_train[text_col].str.replace('>', ' ')\n",
    "\n",
    "    df_train[text_col] = df_train[text_col].str.replace('!', ' ')\n",
    "    df_train[text_col] = df_train[text_col].str.replace(r'\\d+', ' ')\n",
    "    df_train[text_col] = df_train[text_col].str.replace(r'[\\W]+', ' ')\n",
    "    \n",
    "    return df_train\n",
    "\n",
    "# приведение токенов входящих в текст к нормальной форме\n",
    "def norm(text, morph):  \n",
    "    text_norm = ''  \n",
    "    for token in nltk.word_tokenize(text):\n",
    "        # print('token = ', token)\n",
    "        token_norm = morph.parse(token)[0].normal_form\n",
    "        if token_norm not in stop_words:        \n",
    "            text_norm = text_norm + ' ' + token_norm\n",
    "        # print('text_norm', text_norm)        \n",
    "    return text_norm\n",
    "\n",
    "def norm_all_df(df_train, text_col):\n",
    "    # приведение к нормальной форме всех отзывов\n",
    "    morph = pymorphy2.MorphAnalyzer()\n",
    "    N = df_train.shape[0]\n",
    "#     N = 100\n",
    "    with tqdm(total=N) as progress_bar:    \n",
    "        for i in range(N):\n",
    "            #print('i = ', i)\n",
    "            df_train.loc[i, text_col] = norm(df_train.loc[i, text_col], morph)\n",
    "            progress_bar.update()\n",
    "    return df_train"
   ]
  },
  {
   "cell_type": "code",
   "execution_count": 11,
   "id": "d9672044",
   "metadata": {},
   "outputs": [
    {
     "name": "stderr",
     "output_type": "stream",
     "text": [
      "/tmp/ipykernel_121810/4080072856.py:5: FutureWarning: The default value of regex will change from True to False in a future version. In addition, single character regular expressions will *not* be treated as literal strings when regex=True.\n",
      "  df_train[text_col] = df_train[text_col].str.replace('.', ' ')\n",
      "/tmp/ipykernel_121810/4080072856.py:9: FutureWarning: The default value of regex will change from True to False in a future version. In addition, single character regular expressions will *not* be treated as literal strings when regex=True.\n",
      "  df_train[text_col] = df_train[text_col].str.replace('(', ' ')\n",
      "/tmp/ipykernel_121810/4080072856.py:10: FutureWarning: The default value of regex will change from True to False in a future version. In addition, single character regular expressions will *not* be treated as literal strings when regex=True.\n",
      "  df_train[text_col] = df_train[text_col].str.replace(')', ' ')\n",
      "/tmp/ipykernel_121810/4080072856.py:11: FutureWarning: The default value of regex will change from True to False in a future version. In addition, single character regular expressions will *not* be treated as literal strings when regex=True.\n",
      "  df_train[text_col] = df_train[text_col].str.replace('}', ' ')\n",
      "/tmp/ipykernel_121810/4080072856.py:12: FutureWarning: The default value of regex will change from True to False in a future version. In addition, single character regular expressions will *not* be treated as literal strings when regex=True.\n",
      "  df_train[text_col] = df_train[text_col].str.replace('{', ' ')\n",
      "/tmp/ipykernel_121810/4080072856.py:17: FutureWarning: The default value of regex will change from True to False in a future version.\n",
      "  df_train[text_col] = df_train[text_col].str.replace(r'\\d+', ' ')\n",
      "/tmp/ipykernel_121810/4080072856.py:18: FutureWarning: The default value of regex will change from True to False in a future version.\n",
      "  df_train[text_col] = df_train[text_col].str.replace(r'[\\W]+', ' ')\n",
      "100%|█████████████████████████████████████████████████████████████████████████████████████████████| 14412/14412 [01:00<00:00, 237.15it/s]\n"
     ]
    }
   ],
   "source": [
    "file_lemmatized = \"data_lemmatized.csv\"\n",
    "file_lemmatized = os.path.join(data_path, file_lemmatized)\n",
    "\n",
    "text_col = 'comment' # имя колонки с текстом\n",
    "\n",
    "df_with_lemm = lemmatized(data, text_col)\n",
    "df_with_lemm = norm_all_df(df_with_lemm, text_col)\n",
    "df_with_lemm.to_csv(file_lemmatized, sep = \";\", index = False)"
   ]
  },
  {
   "cell_type": "code",
   "execution_count": null,
   "id": "4a1c277f",
   "metadata": {},
   "outputs": [],
   "source": []
  },
  {
   "cell_type": "code",
   "execution_count": null,
   "id": "bb696ca2",
   "metadata": {},
   "outputs": [],
   "source": []
  },
  {
   "cell_type": "code",
   "execution_count": null,
   "id": "47f60117",
   "metadata": {},
   "outputs": [],
   "source": []
  },
  {
   "cell_type": "markdown",
   "id": "60d3e106",
   "metadata": {},
   "source": [
    "## Разделение на трейн и тест"
   ]
  },
  {
   "cell_type": "code",
   "execution_count": 12,
   "id": "8be1e99e",
   "metadata": {},
   "outputs": [
    {
     "data": {
      "text/html": [
       "<div>\n",
       "<style scoped>\n",
       "    .dataframe tbody tr th:only-of-type {\n",
       "        vertical-align: middle;\n",
       "    }\n",
       "\n",
       "    .dataframe tbody tr th {\n",
       "        vertical-align: top;\n",
       "    }\n",
       "\n",
       "    .dataframe thead th {\n",
       "        text-align: right;\n",
       "    }\n",
       "</style>\n",
       "<table border=\"1\" class=\"dataframe\">\n",
       "  <thead>\n",
       "    <tr style=\"text-align: right;\">\n",
       "      <th></th>\n",
       "      <th>comment</th>\n",
       "      <th>toxic</th>\n",
       "    </tr>\n",
       "  </thead>\n",
       "  <tbody>\n",
       "    <tr>\n",
       "      <th>0</th>\n",
       "      <td>верблюд дебил бл</td>\n",
       "      <td>1.0</td>\n",
       "    </tr>\n",
       "    <tr>\n",
       "      <th>1</th>\n",
       "      <td>хохол это отдушина затюканый россиянин мол во...</td>\n",
       "      <td>1.0</td>\n",
       "    </tr>\n",
       "    <tr>\n",
       "      <th>2</th>\n",
       "      <td>собака собачий смерть</td>\n",
       "      <td>1.0</td>\n",
       "    </tr>\n",
       "    <tr>\n",
       "      <th>3</th>\n",
       "      <td>страница обновить дебил это оскорбление доказ...</td>\n",
       "      <td>1.0</td>\n",
       "    </tr>\n",
       "    <tr>\n",
       "      <th>4</th>\n",
       "      <td>убедить страничный пдф скрипаль отравить росс...</td>\n",
       "      <td>1.0</td>\n",
       "    </tr>\n",
       "  </tbody>\n",
       "</table>\n",
       "</div>"
      ],
      "text/plain": [
       "                                             comment  toxic\n",
       "0                                   верблюд дебил бл    1.0\n",
       "1   хохол это отдушина затюканый россиянин мол во...    1.0\n",
       "2                              собака собачий смерть    1.0\n",
       "3   страница обновить дебил это оскорбление доказ...    1.0\n",
       "4   убедить страничный пдф скрипаль отравить росс...    1.0"
      ]
     },
     "execution_count": 12,
     "metadata": {},
     "output_type": "execute_result"
    }
   ],
   "source": [
    "data = pd.read_csv(file_lemmatized, sep=\";\")\n",
    "data.head()"
   ]
  },
  {
   "cell_type": "code",
   "execution_count": 13,
   "id": "09e10a0a",
   "metadata": {},
   "outputs": [
    {
     "data": {
      "text/html": [
       "<div>\n",
       "<style scoped>\n",
       "    .dataframe tbody tr th:only-of-type {\n",
       "        vertical-align: middle;\n",
       "    }\n",
       "\n",
       "    .dataframe tbody tr th {\n",
       "        vertical-align: top;\n",
       "    }\n",
       "\n",
       "    .dataframe thead th {\n",
       "        text-align: right;\n",
       "    }\n",
       "</style>\n",
       "<table border=\"1\" class=\"dataframe\">\n",
       "  <thead>\n",
       "    <tr style=\"text-align: right;\">\n",
       "      <th></th>\n",
       "      <th>text</th>\n",
       "      <th>toxic</th>\n",
       "    </tr>\n",
       "  </thead>\n",
       "  <tbody>\n",
       "    <tr>\n",
       "      <th>0</th>\n",
       "      <td>верблюд дебил бл</td>\n",
       "      <td>1.0</td>\n",
       "    </tr>\n",
       "    <tr>\n",
       "      <th>1</th>\n",
       "      <td>хохол это отдушина затюканый россиянин мол во...</td>\n",
       "      <td>1.0</td>\n",
       "    </tr>\n",
       "    <tr>\n",
       "      <th>2</th>\n",
       "      <td>собака собачий смерть</td>\n",
       "      <td>1.0</td>\n",
       "    </tr>\n",
       "    <tr>\n",
       "      <th>3</th>\n",
       "      <td>страница обновить дебил это оскорбление доказ...</td>\n",
       "      <td>1.0</td>\n",
       "    </tr>\n",
       "    <tr>\n",
       "      <th>4</th>\n",
       "      <td>убедить страничный пдф скрипаль отравить росс...</td>\n",
       "      <td>1.0</td>\n",
       "    </tr>\n",
       "  </tbody>\n",
       "</table>\n",
       "</div>"
      ],
      "text/plain": [
       "                                                text  toxic\n",
       "0                                   верблюд дебил бл    1.0\n",
       "1   хохол это отдушина затюканый россиянин мол во...    1.0\n",
       "2                              собака собачий смерть    1.0\n",
       "3   страница обновить дебил это оскорбление доказ...    1.0\n",
       "4   убедить страничный пдф скрипаль отравить росс...    1.0"
      ]
     },
     "execution_count": 13,
     "metadata": {},
     "output_type": "execute_result"
    }
   ],
   "source": [
    "data.rename(columns={\"comment\": \"text\"}, inplace=True)\n",
    "data.head()"
   ]
  },
  {
   "cell_type": "code",
   "execution_count": 14,
   "id": "d9a68004",
   "metadata": {},
   "outputs": [
    {
     "data": {
      "text/plain": [
       "(14412, 2)"
      ]
     },
     "execution_count": 14,
     "metadata": {},
     "output_type": "execute_result"
    }
   ],
   "source": [
    "data.shape"
   ]
  },
  {
   "cell_type": "code",
   "execution_count": 15,
   "id": "e42b3c4c",
   "metadata": {},
   "outputs": [
    {
     "data": {
      "text/plain": [
       "(14411, 2)"
      ]
     },
     "execution_count": 15,
     "metadata": {},
     "output_type": "execute_result"
    }
   ],
   "source": [
    "data.dropna(inplace=True)\n",
    "data.shape"
   ]
  },
  {
   "cell_type": "code",
   "execution_count": 16,
   "id": "3f1dd81e",
   "metadata": {},
   "outputs": [],
   "source": [
    "df_train, df_test = train_test_split(\n",
    "    data,\n",
    "    test_size=0.2, \n",
    "    stratify=data[\"toxic\"],\n",
    "    random_state=42\n",
    ")\n"
   ]
  },
  {
   "cell_type": "code",
   "execution_count": 17,
   "id": "90688321",
   "metadata": {},
   "outputs": [
    {
     "data": {
      "text/plain": [
       "((11528, 2), (2883, 2))"
      ]
     },
     "execution_count": 17,
     "metadata": {},
     "output_type": "execute_result"
    }
   ],
   "source": [
    "df_train.shape, df_test.shape"
   ]
  },
  {
   "cell_type": "code",
   "execution_count": 18,
   "id": "d98bd0d9",
   "metadata": {},
   "outputs": [
    {
     "data": {
      "text/plain": [
       "(0.0    7668\n",
       " 1.0    3860\n",
       " Name: toxic, dtype: int64,\n",
       " 0.0    1918\n",
       " 1.0     965\n",
       " Name: toxic, dtype: int64)"
      ]
     },
     "execution_count": 18,
     "metadata": {},
     "output_type": "execute_result"
    }
   ],
   "source": [
    "df_train.toxic.value_counts(), df_test.toxic.value_counts()"
   ]
  },
  {
   "cell_type": "code",
   "execution_count": 19,
   "id": "cca6a06d",
   "metadata": {},
   "outputs": [],
   "source": [
    "df_train.to_csv(os.path.join(data_path, \"train.csv\"), index=0)\n",
    "df_test.to_csv(os.path.join(data_path, \"test.csv\"), index=0)"
   ]
  },
  {
   "cell_type": "markdown",
   "id": "d6679bfc",
   "metadata": {},
   "source": [
    "### Обучим"
   ]
  },
  {
   "cell_type": "code",
   "execution_count": 20,
   "id": "6fe9dde7",
   "metadata": {},
   "outputs": [
    {
     "data": {
      "text/html": [
       "<div>\n",
       "<style scoped>\n",
       "    .dataframe tbody tr th:only-of-type {\n",
       "        vertical-align: middle;\n",
       "    }\n",
       "\n",
       "    .dataframe tbody tr th {\n",
       "        vertical-align: top;\n",
       "    }\n",
       "\n",
       "    .dataframe thead th {\n",
       "        text-align: right;\n",
       "    }\n",
       "</style>\n",
       "<table border=\"1\" class=\"dataframe\">\n",
       "  <thead>\n",
       "    <tr style=\"text-align: right;\">\n",
       "      <th></th>\n",
       "      <th>text</th>\n",
       "      <th>toxic</th>\n",
       "    </tr>\n",
       "  </thead>\n",
       "  <tbody>\n",
       "    <tr>\n",
       "      <th>0</th>\n",
       "      <td>читать закон банкротство объявить банкрот нуж...</td>\n",
       "      <td>0.0</td>\n",
       "    </tr>\n",
       "    <tr>\n",
       "      <th>1</th>\n",
       "      <td>сяомь это постоянно</td>\n",
       "      <td>0.0</td>\n",
       "    </tr>\n",
       "    <tr>\n",
       "      <th>2</th>\n",
       "      <td>светов изначально поддержать уважаемый крякло...</td>\n",
       "      <td>1.0</td>\n",
       "    </tr>\n",
       "    <tr>\n",
       "      <th>3</th>\n",
       "      <td>заработок работа небольшой плюс устраиваться ...</td>\n",
       "      <td>0.0</td>\n",
       "    </tr>\n",
       "    <tr>\n",
       "      <th>4</th>\n",
       "      <td>ездить каждый день год тыс</td>\n",
       "      <td>0.0</td>\n",
       "    </tr>\n",
       "  </tbody>\n",
       "</table>\n",
       "</div>"
      ],
      "text/plain": [
       "                                                text  toxic\n",
       "0   читать закон банкротство объявить банкрот нуж...    0.0\n",
       "1                                сяомь это постоянно    0.0\n",
       "2   светов изначально поддержать уважаемый крякло...    1.0\n",
       "3   заработок работа небольшой плюс устраиваться ...    0.0\n",
       "4                         ездить каждый день год тыс    0.0"
      ]
     },
     "execution_count": 20,
     "metadata": {},
     "output_type": "execute_result"
    }
   ],
   "source": [
    "train = pd.read_csv(os.path.join(data_path, \"train.csv\"))\n",
    "train.head()"
   ]
  },
  {
   "cell_type": "code",
   "execution_count": 21,
   "id": "27cef1e2",
   "metadata": {},
   "outputs": [],
   "source": [
    "def fit_catboost(\n",
    "    X_train, \n",
    "    X_test, \n",
    "    y_train, \n",
    "    y_test, \n",
    "    catboost_params = {},\n",
    "    verbose = 100\n",
    "):\n",
    "    learn_pool = Pool(\n",
    "        X_train, \n",
    "        y_train, \n",
    "        text_features=[\"text\"], \n",
    "        feature_names=[\"text\"]\n",
    "    )\n",
    "    test_pool = Pool(\n",
    "        X_test, \n",
    "        y_test, \n",
    "        text_features=[\"text\"],\n",
    "        feature_names=[\"text\"]\n",
    "    )\n",
    "    catboost_default_params = {\n",
    "        'iterations': 2000,\n",
    "        'learning_rate': 0.015,\n",
    "        'eval_metric': 'F1',\n",
    "        'task_type': 'GPU',\n",
    "        'use_best_model': True\n",
    "    }\n",
    "    catboost_default_params.update(catboost_params)\n",
    "    \n",
    "    model = CatBoostClassifier(**catboost_default_params)\n",
    "    model.fit(learn_pool, eval_set=test_pool, verbose=verbose)\n",
    "    return model\n",
    "\n"
   ]
  },
  {
   "cell_type": "code",
   "execution_count": 22,
   "id": "42ef4b16",
   "metadata": {},
   "outputs": [
    {
     "name": "stdout",
     "output_type": "stream",
     "text": [
      "0:\tlearn: 0.7551216\ttest: 0.7817746\tbest: 0.7817746 (0)\ttotal: 32.4ms\tremaining: 1m 4s\n",
      "100:\tlearn: 0.7915290\ttest: 0.7817746\tbest: 0.7912395 (8)\ttotal: 2.52s\tremaining: 47.3s\n",
      "200:\tlearn: 0.7967699\ttest: 0.7902849\tbest: 0.7912395 (8)\ttotal: 4.69s\tremaining: 42s\n",
      "300:\tlearn: 0.8051603\ttest: 0.7981524\tbest: 0.7981524 (270)\ttotal: 6.99s\tremaining: 39.4s\n",
      "400:\tlearn: 0.8066654\ttest: 0.8000000\tbest: 0.8000000 (374)\ttotal: 9.24s\tremaining: 36.9s\n",
      "500:\tlearn: 0.8084784\ttest: 0.8000000\tbest: 0.8000000 (374)\ttotal: 11.5s\tremaining: 34.4s\n",
      "600:\tlearn: 0.8109745\ttest: 0.8005527\tbest: 0.8005527 (502)\ttotal: 13.8s\tremaining: 32s\n",
      "700:\tlearn: 0.8107494\ttest: 0.8007363\tbest: 0.8011050 (608)\ttotal: 16s\tremaining: 29.7s\n",
      "800:\tlearn: 0.8130204\ttest: 0.7996315\tbest: 0.8011050 (608)\ttotal: 18.3s\tremaining: 27.4s\n",
      "900:\tlearn: 0.8140152\ttest: 0.8007363\tbest: 0.8011050 (608)\ttotal: 20.6s\tremaining: 25.1s\n",
      "1000:\tlearn: 0.8143939\ttest: 0.8011050\tbest: 0.8016567 (957)\ttotal: 22.8s\tremaining: 22.8s\n",
      "1100:\tlearn: 0.8160636\ttest: 0.8012879\tbest: 0.8016567 (957)\ttotal: 25.1s\tremaining: 20.5s\n",
      "1200:\tlearn: 0.8175266\ttest: 0.8018391\tbest: 0.8018391 (1188)\ttotal: 27.3s\tremaining: 18.2s\n",
      "1300:\tlearn: 0.8195103\ttest: 0.8023897\tbest: 0.8023897 (1287)\ttotal: 29.5s\tremaining: 15.9s\n",
      "1400:\tlearn: 0.8208927\ttest: 0.8023897\tbest: 0.8023897 (1287)\ttotal: 31.8s\tremaining: 13.6s\n",
      "1500:\tlearn: 0.8220999\ttest: 0.8018391\tbest: 0.8023897 (1287)\ttotal: 34.1s\tremaining: 11.3s\n",
      "1600:\tlearn: 0.8238647\ttest: 0.8014706\tbest: 0.8023897 (1287)\ttotal: 36.4s\tremaining: 9.08s\n",
      "1700:\tlearn: 0.8250048\ttest: 0.8011024\tbest: 0.8023897 (1287)\ttotal: 38.8s\tremaining: 6.82s\n",
      "1800:\tlearn: 0.8258555\ttest: 0.8020211\tbest: 0.8023897 (1287)\ttotal: 41.1s\tremaining: 4.54s\n",
      "1900:\tlearn: 0.8265500\ttest: 0.8018349\tbest: 0.8023897 (1287)\ttotal: 43.6s\tremaining: 2.27s\n",
      "1999:\tlearn: 0.8277567\ttest: 0.8020165\tbest: 0.8023897 (1287)\ttotal: 46.1s\tremaining: 0us\n",
      "bestTest = 0.8023897059\n",
      "bestIteration = 1287\n",
      "Shrink model to first 1288 iterations.\n"
     ]
    }
   ],
   "source": [
    "X_train, X_val, y_train, y_val = train_test_split(\n",
    "    train[[\"text\"]],\n",
    "    train[\"toxic\"],\n",
    "    test_size=0.3, \n",
    "    stratify=train[\"toxic\"],\n",
    "    random_state=42\n",
    ")\n",
    "cat_boost_model = fit_catboost(X_train, X_val, y_train, y_val)"
   ]
  },
  {
   "cell_type": "markdown",
   "id": "b3d607e1",
   "metadata": {},
   "source": [
    "### Проверим f1 на данных которые модель не видела"
   ]
  },
  {
   "cell_type": "code",
   "execution_count": 23,
   "id": "f361a7da",
   "metadata": {},
   "outputs": [
    {
     "data": {
      "text/html": [
       "<div>\n",
       "<style scoped>\n",
       "    .dataframe tbody tr th:only-of-type {\n",
       "        vertical-align: middle;\n",
       "    }\n",
       "\n",
       "    .dataframe tbody tr th {\n",
       "        vertical-align: top;\n",
       "    }\n",
       "\n",
       "    .dataframe thead th {\n",
       "        text-align: right;\n",
       "    }\n",
       "</style>\n",
       "<table border=\"1\" class=\"dataframe\">\n",
       "  <thead>\n",
       "    <tr style=\"text-align: right;\">\n",
       "      <th></th>\n",
       "      <th>text</th>\n",
       "      <th>toxic</th>\n",
       "    </tr>\n",
       "  </thead>\n",
       "  <tbody>\n",
       "    <tr>\n",
       "      <th>0</th>\n",
       "      <td>увы увы это нужно придумать сверхъестественны...</td>\n",
       "      <td>0.0</td>\n",
       "    </tr>\n",
       "    <tr>\n",
       "      <th>1</th>\n",
       "      <td>просто уметь читать строка</td>\n",
       "      <td>0.0</td>\n",
       "    </tr>\n",
       "    <tr>\n",
       "      <th>2</th>\n",
       "      <td>срочный избиение з б н бесплатный смс подписы...</td>\n",
       "      <td>1.0</td>\n",
       "    </tr>\n",
       "    <tr>\n",
       "      <th>3</th>\n",
       "      <td>добби свободный ох спасибо добрый внученька</td>\n",
       "      <td>0.0</td>\n",
       "    </tr>\n",
       "    <tr>\n",
       "      <th>4</th>\n",
       "      <td>почему собака подходить нюхать твой жопа кот ...</td>\n",
       "      <td>1.0</td>\n",
       "    </tr>\n",
       "  </tbody>\n",
       "</table>\n",
       "</div>"
      ],
      "text/plain": [
       "                                                text  toxic\n",
       "0   увы увы это нужно придумать сверхъестественны...    0.0\n",
       "1                         просто уметь читать строка    0.0\n",
       "2   срочный избиение з б н бесплатный смс подписы...    1.0\n",
       "3        добби свободный ох спасибо добрый внученька    0.0\n",
       "4   почему собака подходить нюхать твой жопа кот ...    1.0"
      ]
     },
     "execution_count": 23,
     "metadata": {},
     "output_type": "execute_result"
    }
   ],
   "source": [
    "test = pd.read_csv(os.path.join(data_path, \"test.csv\"))\n",
    "test.head()"
   ]
  },
  {
   "cell_type": "code",
   "execution_count": 24,
   "id": "4c81a94b",
   "metadata": {},
   "outputs": [
    {
     "data": {
      "text/html": [
       "<div>\n",
       "<style scoped>\n",
       "    .dataframe tbody tr th:only-of-type {\n",
       "        vertical-align: middle;\n",
       "    }\n",
       "\n",
       "    .dataframe tbody tr th {\n",
       "        vertical-align: top;\n",
       "    }\n",
       "\n",
       "    .dataframe thead th {\n",
       "        text-align: right;\n",
       "    }\n",
       "</style>\n",
       "<table border=\"1\" class=\"dataframe\">\n",
       "  <thead>\n",
       "    <tr style=\"text-align: right;\">\n",
       "      <th></th>\n",
       "      <th>text</th>\n",
       "    </tr>\n",
       "  </thead>\n",
       "  <tbody>\n",
       "    <tr>\n",
       "      <th>0</th>\n",
       "      <td>увы увы это нужно придумать сверхъестественны...</td>\n",
       "    </tr>\n",
       "    <tr>\n",
       "      <th>1</th>\n",
       "      <td>просто уметь читать строка</td>\n",
       "    </tr>\n",
       "    <tr>\n",
       "      <th>2</th>\n",
       "      <td>срочный избиение з б н бесплатный смс подписы...</td>\n",
       "    </tr>\n",
       "    <tr>\n",
       "      <th>3</th>\n",
       "      <td>добби свободный ох спасибо добрый внученька</td>\n",
       "    </tr>\n",
       "    <tr>\n",
       "      <th>4</th>\n",
       "      <td>почему собака подходить нюхать твой жопа кот ...</td>\n",
       "    </tr>\n",
       "  </tbody>\n",
       "</table>\n",
       "</div>"
      ],
      "text/plain": [
       "                                                text\n",
       "0   увы увы это нужно придумать сверхъестественны...\n",
       "1                         просто уметь читать строка\n",
       "2   срочный избиение з б н бесплатный смс подписы...\n",
       "3        добби свободный ох спасибо добрый внученька\n",
       "4   почему собака подходить нюхать твой жопа кот ..."
      ]
     },
     "execution_count": 24,
     "metadata": {},
     "output_type": "execute_result"
    }
   ],
   "source": [
    "X_test, y_test = test[[\"text\"]], test[\"toxic\"]\n",
    "X_test.head()"
   ]
  },
  {
   "cell_type": "code",
   "execution_count": 25,
   "id": "169e7f57",
   "metadata": {},
   "outputs": [
    {
     "name": "stdout",
     "output_type": "stream",
     "text": [
      "F1-score на тестовой выборке: 0.844 \n",
      "\n"
     ]
    }
   ],
   "source": [
    "y_pred = cat_boost_model.predict(X_test)\n",
    "print(\n",
    "    'F1-score на тестовой выборке: {:.3f} \\n'\n",
    "    .format(\n",
    "        sk_met.f1_score(\n",
    "            y_test, \n",
    "            y_pred, \n",
    "            average = 'macro')\n",
    "    )\n",
    ")"
   ]
  },
  {
   "cell_type": "code",
   "execution_count": 26,
   "id": "c2e02611",
   "metadata": {},
   "outputs": [],
   "source": [
    "cat_boost_model.save_model(\"hack_model_toxic\")"
   ]
  },
  {
   "cell_type": "code",
   "execution_count": null,
   "id": "50e49c31",
   "metadata": {},
   "outputs": [],
   "source": []
  }
 ],
 "metadata": {
  "kernelspec": {
   "display_name": "Python 3",
   "language": "python",
   "name": "python3"
  },
  "language_info": {
   "codemirror_mode": {
    "name": "ipython",
    "version": 3
   },
   "file_extension": ".py",
   "mimetype": "text/x-python",
   "name": "python",
   "nbconvert_exporter": "python",
   "pygments_lexer": "ipython3",
   "version": "3.9.12"
  }
 },
 "nbformat": 4,
 "nbformat_minor": 5
}
